{
  "nbformat": 4,
  "nbformat_minor": 0,
  "metadata": {
    "colab": {
      "name": "CaptchaReader.ipynb",
      "provenance": [],
      "collapsed_sections": []
    },
    "kernelspec": {
      "name": "python3",
      "display_name": "Python 3"
    },
    "language_info": {
      "name": "python"
    }
  },
  "cells": [
    {
      "cell_type": "markdown",
      "metadata": {
        "id": "zAl4iv9gBkHY"
      },
      "source": [
        "<h1>Project Title: Captcha Reader</h1>\n",
        "<h3>Course: HDAIML_SEP<br>\n",
        "Module: Machine Learning Fundamentals<br>\n",
        "Student name: Darragh Clabby<br>\n",
        "Student number: 20142935<br>\n",
        "</h3><br>"
      ]
    },
    {
      "cell_type": "code",
      "metadata": {
        "id": "7S4Uz89gBcYE"
      },
      "source": [
        "# set the root directory\n",
        "import os\n",
        "root = '/content/drive/MyDrive/HD_AIML/Semester3/MachineLearning/Project/code'\n",
        "os.chdir(root)"
      ],
      "execution_count": null,
      "outputs": []
    },
    {
      "cell_type": "code",
      "metadata": {
        "id": "bVVJVvDsBoG4"
      },
      "source": [
        "# import the features & labels\n",
        "import pickle\n",
        "with open('featuresLabels.dat', \"rb\") as f:\n",
        "  (features, labels) = pickle.load(f)"
      ],
      "execution_count": null,
      "outputs": []
    },
    {
      "cell_type": "code",
      "metadata": {
        "id": "HoynLjSiGaGe"
      },
      "source": [
        "# Split data into training & validation sets, and encode labels to one hot encodings\n",
        "from sklearn.model_selection import train_test_split\n",
        "(xTrain, xVal, yTrain, yVal) = train_test_split(features, labels, test_size=0.25, random_state=0)"
      ],
      "execution_count": null,
      "outputs": []
    },
    {
      "cell_type": "code",
      "metadata": {
        "id": "sBdrOCOlIXZU"
      },
      "source": [
        "# Convert the labels to one-hot encodings\n",
        "from sklearn.preprocessing import LabelBinarizer\n",
        "lb = LabelBinarizer().fit(yTrain)\n",
        "yTrain = lb.transform(yTrain)\n",
        "yVal = lb.transform(yVal)\n",
        "\n",
        "# Save label encoder (use later to decode predictions)\n",
        "with open('labelEncodings.dat', \"wb\") as f:\n",
        "    pickle.dump(lb, f)"
      ],
      "execution_count": null,
      "outputs": []
    },
    {
      "cell_type": "code",
      "metadata": {
        "id": "hd0kh5klB1ad"
      },
      "source": [
        "# import the necessary packages for training from keras\n",
        "from keras.models import Sequential\n",
        "from keras.layers.convolutional import Conv2D, MaxPooling2D\n",
        "from keras.layers.core import Flatten, Dense"
      ],
      "execution_count": null,
      "outputs": []
    },
    {
      "cell_type": "code",
      "metadata": {
        "id": "v7FaB3sWB4zV"
      },
      "source": [
        "# Define the Model A (as implemented by Geitgy)\n",
        "modelA = Sequential()\n",
        "\n",
        "# First convolutional layer with max pooling\n",
        "modelA.add(Conv2D(20, (5, 5), padding=\"same\", input_shape=(20, 20, 1), activation=\"relu\"))\n",
        "modelA.add(MaxPooling2D(pool_size=(2, 2), strides=(2, 2)))\n",
        "\n",
        "# Second convolutional layer with max pooling\n",
        "modelA.add(Conv2D(50, (5, 5), padding=\"same\", activation=\"relu\"))\n",
        "modelA.add(MaxPooling2D(pool_size=(2, 2), strides=(2, 2)))\n",
        "\n",
        "# Hidden layer\n",
        "modelA.add(Flatten())\n",
        "modelA.add(Dense(500, activation=\"relu\"))\n",
        "\n",
        "# Output layer\n",
        "modelA.add(Dense(32, activation=\"softmax\"))\n",
        "\n",
        "# compile the model\n",
        "modelA.compile(loss=\"categorical_crossentropy\", optimizer=\"adam\", metrics=[\"accuracy\"])"
      ],
      "execution_count": null,
      "outputs": []
    },
    {
      "cell_type": "code",
      "metadata": {
        "colab": {
          "base_uri": "https://localhost:8080/"
        },
        "id": "aQpHRaYRQLKD",
        "outputId": "289ab0e9-6d09-4587-ce62-162dba29a86f"
      },
      "source": [
        "# Train the neural network\n",
        "modelA.fit(xTrain, yTrain, validation_data=(xVal, yVal), batch_size=32, epochs=10, verbose=1)"
      ],
      "execution_count": null,
      "outputs": [
        {
          "output_type": "stream",
          "text": [
            "Epoch 1/10\n",
            "731/731 [==============================] - 42s 37ms/step - loss: 0.9122 - accuracy: 0.7659 - val_loss: 0.0246 - val_accuracy: 0.9951\n",
            "Epoch 2/10\n",
            "731/731 [==============================] - 27s 36ms/step - loss: 0.0130 - accuracy: 0.9972 - val_loss: 0.0108 - val_accuracy: 0.9974\n",
            "Epoch 3/10\n",
            "731/731 [==============================] - 27s 36ms/step - loss: 0.0074 - accuracy: 0.9979 - val_loss: 0.0090 - val_accuracy: 0.9977\n",
            "Epoch 4/10\n",
            "731/731 [==============================] - 27s 36ms/step - loss: 0.0054 - accuracy: 0.9986 - val_loss: 0.0100 - val_accuracy: 0.9972\n",
            "Epoch 5/10\n",
            "731/731 [==============================] - 27s 36ms/step - loss: 0.0021 - accuracy: 0.9994 - val_loss: 0.0819 - val_accuracy: 0.9719\n",
            "Epoch 6/10\n",
            "731/731 [==============================] - 27s 37ms/step - loss: 0.0093 - accuracy: 0.9977 - val_loss: 0.0085 - val_accuracy: 0.9979\n",
            "Epoch 7/10\n",
            "731/731 [==============================] - 27s 37ms/step - loss: 0.0013 - accuracy: 0.9999 - val_loss: 0.0154 - val_accuracy: 0.9959\n",
            "Epoch 8/10\n",
            "731/731 [==============================] - 27s 36ms/step - loss: 0.0062 - accuracy: 0.9983 - val_loss: 0.0126 - val_accuracy: 0.9974\n",
            "Epoch 9/10\n",
            "731/731 [==============================] - 27s 36ms/step - loss: 0.0024 - accuracy: 0.9991 - val_loss: 0.0098 - val_accuracy: 0.9982\n",
            "Epoch 10/10\n",
            "731/731 [==============================] - 27s 36ms/step - loss: 8.3186e-04 - accuracy: 0.9998 - val_loss: 0.0077 - val_accuracy: 0.9982\n"
          ],
          "name": "stdout"
        },
        {
          "output_type": "execute_result",
          "data": {
            "text/plain": [
              "<keras.callbacks.History at 0x7fd10aa52e10>"
            ]
          },
          "metadata": {
            "tags": []
          },
          "execution_count": 7
        }
      ]
    },
    {
      "cell_type": "code",
      "metadata": {
        "id": "0nroM0lFpTRk"
      },
      "source": [
        "modelA.save(\"captchaModelA.hdf5\")"
      ],
      "execution_count": null,
      "outputs": []
    },
    {
      "cell_type": "code",
      "metadata": {
        "id": "kBFWZoYINVoR"
      },
      "source": [
        "# Define the Model B (sigmoid activation of output layer; binary cross entropy loss model)\n",
        "modelB = Sequential()\n",
        "\n",
        "# First convolutional layer with max pooling\n",
        "modelB.add(Conv2D(20, (5, 5), padding=\"same\", input_shape=(20, 20, 1), activation=\"relu\"))\n",
        "modelB.add(MaxPooling2D(pool_size=(2, 2), strides=(2, 2)))\n",
        "\n",
        "# Second convolutional layer with max pooling\n",
        "modelB.add(Conv2D(50, (5, 5), padding=\"same\", activation=\"relu\"))\n",
        "modelB.add(MaxPooling2D(pool_size=(2, 2), strides=(2, 2)))\n",
        "\n",
        "# Hidden layer\n",
        "modelB.add(Flatten())\n",
        "modelB.add(Dense(500, activation=\"relu\"))\n",
        "\n",
        "# Output layer\n",
        "modelB.add(Dense(32, activation=\"sigmoid\")) #see: https://machinelearningmastery.com/multi-label-classification-with-deep-learning/\n",
        "\n",
        "# compile the model\n",
        "modelB.compile(loss=\"binary_crossentropy\", optimizer=\"adam\", metrics=[\"accuracy\"]) #see: https://machinelearningmastery.com/multi-label-classification-with-deep-learning/"
      ],
      "execution_count": null,
      "outputs": []
    },
    {
      "cell_type": "code",
      "metadata": {
        "colab": {
          "base_uri": "https://localhost:8080/"
        },
        "id": "OK4NdsuXQHUs",
        "outputId": "089d730c-0f6f-4210-851b-9699cde65ef3"
      },
      "source": [
        "# Train the neural network\n",
        "modelB.fit(xTrain, yTrain, validation_data=(xVal, yVal), batch_size=32, epochs=10, verbose=1)"
      ],
      "execution_count": null,
      "outputs": [
        {
          "output_type": "stream",
          "text": [
            "Epoch 1/10\n",
            "731/731 [==============================] - 28s 37ms/step - loss: 0.0911 - accuracy: 0.5256 - val_loss: 0.0014 - val_accuracy: 0.9965\n",
            "Epoch 2/10\n",
            "731/731 [==============================] - 26s 36ms/step - loss: 0.0012 - accuracy: 0.9971 - val_loss: 6.5124e-04 - val_accuracy: 0.9982\n",
            "Epoch 3/10\n",
            "731/731 [==============================] - 27s 36ms/step - loss: 3.4343e-04 - accuracy: 0.9996 - val_loss: 5.3296e-04 - val_accuracy: 0.9985\n",
            "Epoch 4/10\n",
            "731/731 [==============================] - 27s 37ms/step - loss: 2.5404e-04 - accuracy: 0.9997 - val_loss: 4.5187e-04 - val_accuracy: 0.9985\n",
            "Epoch 5/10\n",
            "731/731 [==============================] - 27s 37ms/step - loss: 1.4974e-04 - accuracy: 0.9998 - val_loss: 4.2588e-04 - val_accuracy: 0.9987\n",
            "Epoch 6/10\n",
            "731/731 [==============================] - 27s 36ms/step - loss: 1.2940e-04 - accuracy: 0.9999 - val_loss: 5.0471e-04 - val_accuracy: 0.9988\n",
            "Epoch 7/10\n",
            "731/731 [==============================] - 26s 36ms/step - loss: 2.1401e-04 - accuracy: 0.9998 - val_loss: 4.1993e-04 - val_accuracy: 0.9986\n",
            "Epoch 8/10\n",
            "731/731 [==============================] - 27s 36ms/step - loss: 7.2949e-05 - accuracy: 0.9999 - val_loss: 4.2719e-04 - val_accuracy: 0.9985\n",
            "Epoch 9/10\n",
            "731/731 [==============================] - 27s 36ms/step - loss: 1.2573e-04 - accuracy: 0.9999 - val_loss: 3.1967e-04 - val_accuracy: 0.9988\n",
            "Epoch 10/10\n",
            "731/731 [==============================] - 27s 36ms/step - loss: 2.0940e-05 - accuracy: 1.0000 - val_loss: 4.3247e-04 - val_accuracy: 0.9987\n"
          ],
          "name": "stdout"
        },
        {
          "output_type": "execute_result",
          "data": {
            "text/plain": [
              "<keras.callbacks.History at 0x7fd109c62f10>"
            ]
          },
          "metadata": {
            "tags": []
          },
          "execution_count": 10
        }
      ]
    },
    {
      "cell_type": "code",
      "metadata": {
        "id": "CPkAutaBrABg"
      },
      "source": [
        "modelB.save(\"captchaModelB.hdf5\")"
      ],
      "execution_count": null,
      "outputs": []
    },
    {
      "cell_type": "code",
      "metadata": {
        "id": "nUnXvJU_B_G2"
      },
      "source": [
        "# Define the Model C (same as A but only one convolution/pooling layer, reduce hidden layer nodes from 500 to 250)\n",
        "modelC = Sequential()\n",
        "\n",
        "# First convolutional layer with max pooling\n",
        "modelC.add(Conv2D(20, (5, 5), padding=\"same\", input_shape=(20, 20, 1), activation=\"relu\"))\n",
        "modelC.add(MaxPooling2D(pool_size=(2, 2), strides=(2, 2)))\n",
        "\n",
        "# Second convolutional layer with max pooling\n",
        "#modelC.add(Conv2D(50, (5, 5), padding=\"same\", activation=\"relu\"))\n",
        "#modelC.add(MaxPooling2D(pool_size=(2, 2), strides=(2, 2)))\n",
        "\n",
        "# Hidden layer\n",
        "modelC.add(Flatten())\n",
        "#modelC.add(Dense(500, activation=\"relu\"))\n",
        "modelC.add(Dense(250, activation=\"relu\"))\n",
        "\n",
        "# Output layer\n",
        "modelC.add(Dense(32, activation=\"softmax\")) \n",
        "\n",
        "# compile the model\n",
        "modelC.compile(loss=\"categorical_crossentropy\", optimizer=\"adam\", metrics=[\"accuracy\"]) "
      ],
      "execution_count": null,
      "outputs": []
    },
    {
      "cell_type": "code",
      "metadata": {
        "colab": {
          "base_uri": "https://localhost:8080/"
        },
        "id": "8LLw3eaLCBnS",
        "outputId": "cf529339-0f05-4aab-d7e2-40c428b8b847"
      },
      "source": [
        "# Train the neural network\n",
        "modelC.fit(xTrain, yTrain, validation_data=(xVal, yVal), batch_size=32, epochs=10, verbose=1)"
      ],
      "execution_count": null,
      "outputs": [
        {
          "output_type": "stream",
          "text": [
            "Epoch 1/10\n",
            "731/731 [==============================] - 13s 16ms/step - loss: 1.0187 - accuracy: 0.7584 - val_loss: 0.0345 - val_accuracy: 0.9937\n",
            "Epoch 2/10\n",
            "731/731 [==============================] - 12s 16ms/step - loss: 0.0297 - accuracy: 0.9931 - val_loss: 0.0270 - val_accuracy: 0.9926\n",
            "Epoch 3/10\n",
            "731/731 [==============================] - 12s 16ms/step - loss: 0.0127 - accuracy: 0.9968 - val_loss: 0.0163 - val_accuracy: 0.9960\n",
            "Epoch 4/10\n",
            "731/731 [==============================] - 12s 16ms/step - loss: 0.0066 - accuracy: 0.9982 - val_loss: 0.0173 - val_accuracy: 0.9959\n",
            "Epoch 5/10\n",
            "731/731 [==============================] - 12s 16ms/step - loss: 0.0058 - accuracy: 0.9985 - val_loss: 0.0144 - val_accuracy: 0.9963\n",
            "Epoch 6/10\n",
            "731/731 [==============================] - 12s 16ms/step - loss: 0.0035 - accuracy: 0.9990 - val_loss: 0.0631 - val_accuracy: 0.9837\n",
            "Epoch 7/10\n",
            "731/731 [==============================] - 12s 16ms/step - loss: 0.0071 - accuracy: 0.9978 - val_loss: 0.0149 - val_accuracy: 0.9963\n",
            "Epoch 8/10\n",
            "731/731 [==============================] - 12s 16ms/step - loss: 0.0017 - accuracy: 0.9996 - val_loss: 0.0121 - val_accuracy: 0.9974\n",
            "Epoch 9/10\n",
            "731/731 [==============================] - 11s 16ms/step - loss: 0.0018 - accuracy: 0.9993 - val_loss: 0.0114 - val_accuracy: 0.9967\n",
            "Epoch 10/10\n",
            "731/731 [==============================] - 11s 16ms/step - loss: 0.0013 - accuracy: 0.9996 - val_loss: 0.0202 - val_accuracy: 0.9965\n"
          ],
          "name": "stdout"
        },
        {
          "output_type": "execute_result",
          "data": {
            "text/plain": [
              "<keras.callbacks.History at 0x7fd109566590>"
            ]
          },
          "metadata": {
            "tags": []
          },
          "execution_count": 13
        }
      ]
    },
    {
      "cell_type": "code",
      "metadata": {
        "id": "Fx6jDE7ICDtJ"
      },
      "source": [
        "modelC.save(\"captchaModelC.hdf5\")"
      ],
      "execution_count": null,
      "outputs": []
    },
    {
      "cell_type": "code",
      "metadata": {
        "id": "8iA9Rnf7JAmd",
        "colab": {
          "base_uri": "https://localhost:8080/"
        },
        "outputId": "cbc51602-4621-4134-d558-94f69b8a3c02"
      },
      "source": [
        "# Define the Model D\n",
        "# Try to induce overfit by reducing amount of training data\n",
        "# Recombine feature & label data and split based on new proportion (train data reduced to 5% of validation data)\n",
        "xAll = np.concatenate((xTrain, xVal))\n",
        "yAll = np.concatenate((yTrain, yVal))\n",
        "\n",
        "iSplit = int(0.05*np.shape(xAll)[0]) # proportion of training data\n",
        "xTrainD = xAll[:iSplit, :, :,:]\n",
        "xValD = xAll[iSplit:, :, :,:]\n",
        "yTrainD = yAll[:iSplit, :]\n",
        "yValD = yAll[iSplit:, :]\n",
        "\n",
        "print('shape xTrainD: ' + str(np.shape(xTrainD)))\n",
        "print('shape xValD: ' + str(np.shape(xValD)))\n",
        "print('shape yTrainD: ' + str(np.shape(yTrainD)))\n",
        "print('shape yValD: ' + str(np.shape(yValD)))"
      ],
      "execution_count": null,
      "outputs": [
        {
          "output_type": "stream",
          "text": [
            "shape xTrainD: (1559, 20, 20, 1)\n",
            "shape xValD: (29625, 20, 20, 1)\n",
            "shape yTrainD: (1559, 32)\n",
            "shape yValD: (29625, 32)\n"
          ],
          "name": "stdout"
        }
      ]
    },
    {
      "cell_type": "code",
      "metadata": {
        "colab": {
          "base_uri": "https://localhost:8080/"
        },
        "id": "hfzDxV7bxkN6",
        "outputId": "3177a5ff-3a0f-48ee-dfb2-ebde8de4b18b"
      },
      "source": [
        "# Train the neural network\n",
        "modelA.fit(xTrainD, yTrainD, validation_data=(xValD, yValD), batch_size=32, epochs=10, verbose=1)"
      ],
      "execution_count": null,
      "outputs": [
        {
          "output_type": "stream",
          "text": [
            "Epoch 1/10\n",
            "49/49 [==============================] - 10s 204ms/step - loss: 6.2632e-07 - accuracy: 1.0000 - val_loss: 0.0015 - val_accuracy: 0.9996\n",
            "Epoch 2/10\n",
            "49/49 [==============================] - 10s 203ms/step - loss: 5.9528e-07 - accuracy: 1.0000 - val_loss: 0.0015 - val_accuracy: 0.9996\n",
            "Epoch 3/10\n",
            "49/49 [==============================] - 10s 204ms/step - loss: 5.7333e-07 - accuracy: 1.0000 - val_loss: 0.0015 - val_accuracy: 0.9996\n",
            "Epoch 4/10\n",
            "49/49 [==============================] - 10s 203ms/step - loss: 5.5100e-07 - accuracy: 1.0000 - val_loss: 0.0015 - val_accuracy: 0.9996\n",
            "Epoch 5/10\n",
            "49/49 [==============================] - 10s 202ms/step - loss: 5.3074e-07 - accuracy: 1.0000 - val_loss: 0.0015 - val_accuracy: 0.9996\n",
            "Epoch 6/10\n",
            "49/49 [==============================] - 10s 203ms/step - loss: 5.1277e-07 - accuracy: 1.0000 - val_loss: 0.0015 - val_accuracy: 0.9996\n",
            "Epoch 7/10\n",
            "49/49 [==============================] - 10s 203ms/step - loss: 4.9618e-07 - accuracy: 1.0000 - val_loss: 0.0015 - val_accuracy: 0.9996\n",
            "Epoch 8/10\n",
            "49/49 [==============================] - 10s 203ms/step - loss: 4.7867e-07 - accuracy: 1.0000 - val_loss: 0.0015 - val_accuracy: 0.9996\n",
            "Epoch 9/10\n",
            "49/49 [==============================] - 10s 204ms/step - loss: 4.6414e-07 - accuracy: 1.0000 - val_loss: 0.0015 - val_accuracy: 0.9995\n",
            "Epoch 10/10\n",
            "49/49 [==============================] - 10s 203ms/step - loss: 4.4992e-07 - accuracy: 1.0000 - val_loss: 0.0015 - val_accuracy: 0.9995\n"
          ],
          "name": "stdout"
        },
        {
          "output_type": "execute_result",
          "data": {
            "text/plain": [
              "<keras.callbacks.History at 0x7fd1011e6cd0>"
            ]
          },
          "metadata": {
            "tags": []
          },
          "execution_count": 56
        }
      ]
    },
    {
      "cell_type": "code",
      "metadata": {
        "id": "yM_0WXLptiuz"
      },
      "source": [
        "modelA.save(\"captchaModelD.hdf5\")"
      ],
      "execution_count": null,
      "outputs": []
    },
    {
      "cell_type": "code",
      "metadata": {
        "id": "yCxPNRGLuOtS"
      },
      "source": [
        "# import the features & labels for lower resolution images\n",
        "#featuresFile = 'featuresLabels12x12.dat'\n",
        "featuresFile = 'featuresLabels8x8.dat'\n",
        "with open(featuresFile, \"rb\") as f:\n",
        "  (featuresLR, labelsLR) = pickle.load(f)\n",
        "\n",
        "# Split data into training & validation sets, and encode labels to one hot encodings\n",
        "(xTrainLR, xValLR, yTrainLR, yValLR) = train_test_split(featuresLR, labelsLR, test_size=0.25, random_state=0)\n",
        "\n",
        "# Convert the labels to one-hot encodings\n",
        "lbLR = LabelBinarizer().fit(yTrainLR)\n",
        "yTrainLR = lbLR.transform(yTrainLR)\n",
        "yValLR = lbLR.transform(yValLR)\n",
        "\n",
        "# Save label encoder (use later to decode predictions)\n",
        "with open('labelEncodingsLR.dat', \"wb\") as f:\n",
        "    pickle.dump(lbLR, f)"
      ],
      "execution_count": null,
      "outputs": []
    },
    {
      "cell_type": "code",
      "metadata": {
        "id": "L3QTIvQl1xdP"
      },
      "source": [
        "# Define the Model E (same as A but input shape changed for lower resolution images)\n",
        "modelE = Sequential()\n",
        "\n",
        "# First convolutional layer with max pooling\n",
        "modelE.add(Conv2D(20, (5, 5), padding=\"same\", input_shape=np.shape(featuresLR)[1:], activation=\"relu\")) \n",
        "modelE.add(MaxPooling2D(pool_size=(2, 2), strides=(2, 2)))\n",
        "\n",
        "# Second convolutional layer with max pooling\n",
        "modelE.add(Conv2D(50, (5, 5), padding=\"same\", activation=\"relu\"))\n",
        "modelE.add(MaxPooling2D(pool_size=(2, 2), strides=(2, 2)))\n",
        "\n",
        "# Hidden layer\n",
        "modelE.add(Flatten())\n",
        "modelE.add(Dense(500, activation=\"relu\"))\n",
        "\n",
        "# Output layer\n",
        "modelE.add(Dense(32, activation=\"softmax\"))\n",
        "\n",
        "# compile the model\n",
        "modelE.compile(loss=\"categorical_crossentropy\", optimizer=\"adam\", metrics=[\"accuracy\"])"
      ],
      "execution_count": null,
      "outputs": []
    },
    {
      "cell_type": "code",
      "metadata": {
        "colab": {
          "base_uri": "https://localhost:8080/"
        },
        "id": "oNmeBDBnwGg-",
        "outputId": "0da863e7-1c03-460b-d138-359093260a9a"
      },
      "source": [
        "# Train the neural network\n",
        "modelE.fit(xTrainLR, yTrainLR, validation_data=(xValLR, yValLR), batch_size=32, epochs=10, verbose=1)"
      ],
      "execution_count": null,
      "outputs": [
        {
          "output_type": "stream",
          "text": [
            "Epoch 1/10\n",
            "731/731 [==============================] - 8s 10ms/step - loss: 1.5271 - accuracy: 0.5906 - val_loss: 0.1019 - val_accuracy: 0.9752\n",
            "Epoch 2/10\n",
            "731/731 [==============================] - 7s 10ms/step - loss: 0.0714 - accuracy: 0.9839 - val_loss: 0.0378 - val_accuracy: 0.9920\n",
            "Epoch 3/10\n",
            "731/731 [==============================] - 7s 9ms/step - loss: 0.0385 - accuracy: 0.9907 - val_loss: 0.0259 - val_accuracy: 0.9935\n",
            "Epoch 4/10\n",
            "731/731 [==============================] - 7s 9ms/step - loss: 0.0243 - accuracy: 0.9935 - val_loss: 0.0297 - val_accuracy: 0.9920\n",
            "Epoch 5/10\n",
            "731/731 [==============================] - 7s 9ms/step - loss: 0.0201 - accuracy: 0.9944 - val_loss: 0.0480 - val_accuracy: 0.9819\n",
            "Epoch 6/10\n",
            "731/731 [==============================] - 7s 9ms/step - loss: 0.0168 - accuracy: 0.9947 - val_loss: 0.0219 - val_accuracy: 0.9942\n",
            "Epoch 7/10\n",
            "731/731 [==============================] - 7s 9ms/step - loss: 0.0132 - accuracy: 0.9953 - val_loss: 0.0210 - val_accuracy: 0.9940\n",
            "Epoch 8/10\n",
            "731/731 [==============================] - 7s 9ms/step - loss: 0.0126 - accuracy: 0.9960 - val_loss: 0.0259 - val_accuracy: 0.9927\n",
            "Epoch 9/10\n",
            "731/731 [==============================] - 7s 9ms/step - loss: 0.0085 - accuracy: 0.9975 - val_loss: 0.0170 - val_accuracy: 0.9945\n",
            "Epoch 10/10\n",
            "731/731 [==============================] - 7s 9ms/step - loss: 0.0101 - accuracy: 0.9967 - val_loss: 0.0187 - val_accuracy: 0.9953\n"
          ],
          "name": "stdout"
        },
        {
          "output_type": "execute_result",
          "data": {
            "text/plain": [
              "<keras.callbacks.History at 0x7fd0ff5dad90>"
            ]
          },
          "metadata": {
            "tags": []
          },
          "execution_count": 71
        }
      ]
    },
    {
      "cell_type": "code",
      "metadata": {
        "id": "a0goyJZ01qSo"
      },
      "source": [
        "modelE.save(\"captchaModelE.hdf5\")"
      ],
      "execution_count": null,
      "outputs": []
    },
    {
      "cell_type": "code",
      "metadata": {
        "id": "y7Nl4EfE3gIb"
      },
      "source": [
        ""
      ],
      "execution_count": null,
      "outputs": []
    }
  ]
}